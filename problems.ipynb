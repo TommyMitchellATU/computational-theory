{
 "cells": [
  {
   "cell_type": "markdown",
   "id": "c7a38694",
   "metadata": {},
   "source": [
    "# Computational Theory Assements"
   ]
  },
  {
   "cell_type": "markdown",
   "id": "c55bd29b",
   "metadata": {},
   "source": [
    "## Problem 1: Binary Words and Operations\n",
    "\n",
    "### Description of each function:\n",
    "\n",
    "1 Parity(x, y, z): Returns the bitwise XOR of three 32-bit words.<br>\n",
    "2 Ch(x, y, z): The 'choose' function; for each bit position, returns y if x is 1, else z.<br>\n",
    "3 Maj(x, y, z): The 'majority' function; for each bit position, returns the majority value among x, y, z.<br>\n",
    "4 Sigma0(x): Large sigma zero function; rotates and XORs input as specified in SHA-256.<br>\n",
    "5 Sigma1(x): Large sigma one function; rotates and XORs input as specified in SHA-256.<br>\n",
    "6 Sigma0(x): Small sigma zero function; rotates/shifts and XORs input.<br>\n",
    "7 Sigma1(x): Small sigma one function; rotates/shifts and XORs input."
   ]
  },
  {
   "cell_type": "markdown",
   "id": "55358db7",
   "metadata": {},
   "source": [
    "#### 1 Parity(x, y, z):"
   ]
  },
  {
   "cell_type": "code",
   "execution_count": null,
   "id": "e88a54d0",
   "metadata": {},
   "outputs": [],
   "source": [
    "import numpy as np\n",
    "\n",
    "# Parity of three binary words\n",
    "def Parity(x, y, z): \n",
    "    # Each input is converted to a 32-bit unsigned integer using np.uint32.\n",
    "    x = np.uint32(x) \n",
    "    y = np.uint32(y) \n",
    "    z = np.uint32(z) \n",
    "    \n",
    "    # Bitwise XOR Operation\n",
    "    # For each bit position, the result is 1 if an odd number of x, y, z have a 1 at that position.\n",
    "    return np.uint32(x ^ y ^ z)\n"
   ]
  },
  {
   "cell_type": "markdown",
   "id": "269c9156",
   "metadata": {},
   "source": [
    "#### 2 Ch(x, y, z):"
   ]
  },
  {
   "cell_type": "code",
   "execution_count": null,
   "id": "715700fd",
   "metadata": {},
   "outputs": [],
   "source": [
    "import numpy as np\n",
    "\n",
    "# choice function\n",
    "def Ch(x, y, z):\n",
    "    x = np.uint32(x) \n",
    "    y = np.uint32(y) \n",
    "    z = np.uint32(z)\n",
    "    \n",
    "    # numpy.uint32: For each bit position, returns the corresponding bit from y if x is 1, else from z.\n",
    "\n",
    "    # For each bit position: \n",
    "    # If the bit in x is 1: take the bit from y.\n",
    "    # If the bit in x is 0: take the bit from z.\n",
    "    \n",
    "    return np.uint32((x & y) ^ (~x & z))"
   ]
  },
  {
   "cell_type": "code",
   "execution_count": 8,
   "id": "51a1ed2f",
   "metadata": {},
   "outputs": [
    {
     "name": "stdout",
     "output_type": "stream",
     "text": [
      "Parity: 0x87654321\n"
     ]
    }
   ],
   "source": [
    "### Testing\n",
    "\n",
    "x = np.uint32(0x12345678)\n",
    "y = np.uint32(0x9abcdef0)\n",
    "z = np.uint32(0x0fedcba9)\n",
    "\n",
    "print(\"Parity:\", hex(Parity(x, y, z)))"
   ]
  },
  {
   "cell_type": "markdown",
   "id": "7507a5fc",
   "metadata": {},
   "source": [
    "## Problem 2: Fractional Parts of Cube Roots"
   ]
  },
  {
   "cell_type": "markdown",
   "id": "ab4a3542",
   "metadata": {},
   "source": [
    "## Problem 3: Padding"
   ]
  },
  {
   "cell_type": "markdown",
   "id": "a980f0aa",
   "metadata": {},
   "source": [
    "## Problem 4: Hashes"
   ]
  },
  {
   "cell_type": "markdown",
   "id": "fa9c341c",
   "metadata": {},
   "source": [
    "## Problem 5: Passwords"
   ]
  },
  {
   "cell_type": "markdown",
   "id": "1c5fa17b",
   "metadata": {},
   "source": [
    "# End"
   ]
  }
 ],
 "metadata": {
  "kernelspec": {
   "display_name": "Python 3",
   "language": "python",
   "name": "python3"
  },
  "language_info": {
   "codemirror_mode": {
    "name": "ipython",
    "version": 3
   },
   "file_extension": ".py",
   "mimetype": "text/x-python",
   "name": "python",
   "nbconvert_exporter": "python",
   "pygments_lexer": "ipython3",
   "version": "3.12.1"
  }
 },
 "nbformat": 4,
 "nbformat_minor": 5
}
