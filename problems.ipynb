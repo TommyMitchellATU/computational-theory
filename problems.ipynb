{
 "cells": [
  {
   "cell_type": "markdown",
   "id": "c7a38694",
   "metadata": {},
   "source": [
    "# Computational Theory Assements\n",
    "\n",
    "import numpy as np\n",
    "\n",
    "## Problem 1: Binary Words and Operations"
   ]
  },
  {
   "cell_type": "markdown",
   "id": "7507a5fc",
   "metadata": {},
   "source": [
    "## Problem 2: Fractional Parts of Cube Roots"
   ]
  },
  {
   "cell_type": "markdown",
   "id": "ab4a3542",
   "metadata": {},
   "source": [
    "## Problem 3: Padding"
   ]
  },
  {
   "cell_type": "markdown",
   "id": "a980f0aa",
   "metadata": {},
   "source": [
    "## Problem 4: Hashes"
   ]
  },
  {
   "cell_type": "markdown",
   "id": "fa9c341c",
   "metadata": {},
   "source": [
    "## Problem 5: Passwords"
   ]
  },
  {
   "cell_type": "markdown",
   "id": "1c5fa17b",
   "metadata": {},
   "source": [
    "# End"
   ]
  }
 ],
 "metadata": {
  "language_info": {
   "name": "python"
  }
 },
 "nbformat": 4,
 "nbformat_minor": 5
}
